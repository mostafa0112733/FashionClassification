{
  "nbformat": 4,
  "nbformat_minor": 0,
  "metadata": {
    "colab": {
      "provenance": []
    },
    "kernelspec": {
      "name": "python3",
      "display_name": "Python 3"
    },
    "language_info": {
      "name": "python"
    }
  },
  "cells": [
    {
      "cell_type": "code",
      "execution_count": 2,
      "metadata": {
        "id": "stEakjqureyD"
      },
      "outputs": [],
      "source": [
        "# Import necessary libraries\n",
        "import tensorflow as tf\n",
        "from tensorflow.keras import layers, models\n",
        "from tensorflow.keras.datasets import fashion_mnist\n",
        "from tensorflow.keras.utils import to_categorical\n"
      ]
    },
    {
      "cell_type": "code",
      "source": [
        "(train_images, train_labels), (test_images, test_labels) = fashion_mnist.load_data()\n"
      ],
      "metadata": {
        "id": "MkMf0t9asCvH"
      },
      "execution_count": 12,
      "outputs": []
    },
    {
      "cell_type": "code",
      "source": [
        "train_images = train_images.reshape((60000, 28, 28, 1)).astype('float32') / 255\n",
        "test_images = test_images.reshape((10000, 28, 28, 1)).astype('float32') / 255\n",
        "\n",
        "# Convert labels to one-hot encoding\n",
        "train_labels = to_categorical(train_labels, 10)\n",
        "test_labels = to_categorical(test_labels, 10)"
      ],
      "metadata": {
        "id": "YI15zxpMsEig"
      },
      "execution_count": 13,
      "outputs": []
    },
    {
      "cell_type": "code",
      "source": [
        "model = models.Sequential()\n",
        "model.add(layers.Conv2D(32, (3, 3), activation='relu', input_shape=(28, 28, 1)))\n",
        "model.add(layers.MaxPooling2D((2, 2)))\n",
        "model.add(layers.Conv2D(64, (3, 3), activation='relu'))\n",
        "model.add(layers.MaxPooling2D((2, 2)))\n",
        "model.add(layers.Conv2D(64, (3, 3), activation='relu'))\n",
        "model.add(layers.Flatten())\n",
        "model.add(layers.Dense(64, activation='relu'))\n",
        "model.add(layers.Dense(10, activation='softmax'))  # 10 units for 10 classes, softmax activation\n"
      ],
      "metadata": {
        "id": "IH7w46-2sHaH"
      },
      "execution_count": 14,
      "outputs": []
    },
    {
      "cell_type": "code",
      "source": [
        "model.compile(optimizer='adam',\n",
        "              loss='categorical_crossentropy',\n",
        "              metrics=['accuracy'])\n",
        "\n"
      ],
      "metadata": {
        "id": "6ABAfC1xsKMv"
      },
      "execution_count": 15,
      "outputs": []
    },
    {
      "cell_type": "code",
      "source": [
        "# Train the model\n",
        "model.fit(train_images, train_labels, epochs=10, batch_size=64, validation_split=0.2)\n"
      ],
      "metadata": {
        "colab": {
          "base_uri": "https://localhost:8080/"
        },
        "id": "tZkN19rTsMPA",
        "outputId": "9ee1961e-4113-490e-e9d6-1b38f541e5b3"
      },
      "execution_count": 16,
      "outputs": [
        {
          "output_type": "stream",
          "name": "stdout",
          "text": [
            "Epoch 1/10\n",
            "750/750 [==============================] - 48s 62ms/step - loss: 0.5942 - accuracy: 0.7832 - val_loss: 0.4211 - val_accuracy: 0.8489\n",
            "Epoch 2/10\n",
            "750/750 [==============================] - 44s 59ms/step - loss: 0.3682 - accuracy: 0.8670 - val_loss: 0.3507 - val_accuracy: 0.8737\n",
            "Epoch 3/10\n",
            "750/750 [==============================] - 44s 59ms/step - loss: 0.3136 - accuracy: 0.8874 - val_loss: 0.3155 - val_accuracy: 0.8870\n",
            "Epoch 4/10\n",
            "750/750 [==============================] - 44s 58ms/step - loss: 0.2833 - accuracy: 0.8963 - val_loss: 0.2936 - val_accuracy: 0.8939\n",
            "Epoch 5/10\n",
            "750/750 [==============================] - 45s 60ms/step - loss: 0.2590 - accuracy: 0.9044 - val_loss: 0.2854 - val_accuracy: 0.8969\n",
            "Epoch 6/10\n",
            "750/750 [==============================] - 45s 59ms/step - loss: 0.2396 - accuracy: 0.9116 - val_loss: 0.2677 - val_accuracy: 0.9045\n",
            "Epoch 7/10\n",
            "750/750 [==============================] - 43s 58ms/step - loss: 0.2194 - accuracy: 0.9198 - val_loss: 0.2677 - val_accuracy: 0.9032\n",
            "Epoch 8/10\n",
            "750/750 [==============================] - 43s 58ms/step - loss: 0.2019 - accuracy: 0.9251 - val_loss: 0.2511 - val_accuracy: 0.9101\n",
            "Epoch 9/10\n",
            "750/750 [==============================] - 44s 59ms/step - loss: 0.1880 - accuracy: 0.9302 - val_loss: 0.2737 - val_accuracy: 0.9028\n",
            "Epoch 10/10\n",
            "750/750 [==============================] - 47s 62ms/step - loss: 0.1751 - accuracy: 0.9344 - val_loss: 0.2623 - val_accuracy: 0.9112\n"
          ]
        },
        {
          "output_type": "execute_result",
          "data": {
            "text/plain": [
              "<keras.src.callbacks.History at 0x7b05f977ef50>"
            ]
          },
          "metadata": {},
          "execution_count": 16
        }
      ]
    },
    {
      "cell_type": "code",
      "source": [
        "test_loss, test_accuracy = model.evaluate(test_images, test_labels)\n",
        "print(f'Test accuracy: {test_accuracy * 100:.2f}%')"
      ],
      "metadata": {
        "colab": {
          "base_uri": "https://localhost:8080/"
        },
        "id": "kuTFGJZ_sUDP",
        "outputId": "8a90e022-6fcf-4700-e879-3e986cf904e1"
      },
      "execution_count": 17,
      "outputs": [
        {
          "output_type": "stream",
          "name": "stdout",
          "text": [
            "313/313 [==============================] - 3s 9ms/step - loss: 0.2636 - accuracy: 0.9064\n",
            "Test accuracy: 90.64%\n"
          ]
        }
      ]
    }
  ]
}